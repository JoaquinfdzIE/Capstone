{
 "cells": [
  {
   "cell_type": "code",
   "execution_count": 1,
   "id": "33da832a-df93-4af4-a671-521a5a37bcd4",
   "metadata": {
    "tags": []
   },
   "outputs": [],
   "source": [
    "import pandas as pd"
   ]
  },
  {
   "cell_type": "code",
   "execution_count": 3,
   "id": "9ff5749a-50da-4e68-9933-4730d82403c6",
   "metadata": {
    "tags": []
   },
   "outputs": [],
   "source": [
    "df = pd.read_pickle('final.pkl')"
   ]
  },
  {
   "cell_type": "code",
   "execution_count": 5,
   "id": "b449f77d-175c-4b37-83a3-f64756a303a4",
   "metadata": {
    "tags": []
   },
   "outputs": [],
   "source": [
    "data = df[['category_code','brand','purchase']]"
   ]
  },
  {
   "cell_type": "code",
   "execution_count": 7,
   "id": "ba213e56-1e87-4d5b-8177-e7fdd139e108",
   "metadata": {
    "tags": []
   },
   "outputs": [
    {
     "data": {
      "text/html": [
       "<div>\n",
       "<style scoped>\n",
       "    .dataframe tbody tr th:only-of-type {\n",
       "        vertical-align: middle;\n",
       "    }\n",
       "\n",
       "    .dataframe tbody tr th {\n",
       "        vertical-align: top;\n",
       "    }\n",
       "\n",
       "    .dataframe thead th {\n",
       "        text-align: right;\n",
       "    }\n",
       "</style>\n",
       "<table border=\"1\" class=\"dataframe\">\n",
       "  <thead>\n",
       "    <tr style=\"text-align: right;\">\n",
       "      <th></th>\n",
       "      <th>category_code</th>\n",
       "      <th>brand</th>\n",
       "      <th>purchase</th>\n",
       "    </tr>\n",
       "  </thead>\n",
       "  <tbody>\n",
       "    <tr>\n",
       "      <th>0</th>\n",
       "      <td>electronics.video.tv</td>\n",
       "      <td>artel</td>\n",
       "      <td>0</td>\n",
       "    </tr>\n",
       "    <tr>\n",
       "      <th>1</th>\n",
       "      <td>electronics.smartphone</td>\n",
       "      <td>samsung</td>\n",
       "      <td>0</td>\n",
       "    </tr>\n",
       "    <tr>\n",
       "      <th>2</th>\n",
       "      <td>auto.accessories.player</td>\n",
       "      <td>jvc</td>\n",
       "      <td>0</td>\n",
       "    </tr>\n",
       "    <tr>\n",
       "      <th>3</th>\n",
       "      <td>electronics.smartphone</td>\n",
       "      <td>apple</td>\n",
       "      <td>0</td>\n",
       "    </tr>\n",
       "    <tr>\n",
       "      <th>4</th>\n",
       "      <td>electronics.smartphone</td>\n",
       "      <td>xiaomi</td>\n",
       "      <td>0</td>\n",
       "    </tr>\n",
       "    <tr>\n",
       "      <th>...</th>\n",
       "      <td>...</td>\n",
       "      <td>...</td>\n",
       "      <td>...</td>\n",
       "    </tr>\n",
       "    <tr>\n",
       "      <th>10443700</th>\n",
       "      <td>appliances.kitchen.grill</td>\n",
       "      <td>philips</td>\n",
       "      <td>0</td>\n",
       "    </tr>\n",
       "    <tr>\n",
       "      <th>10443701</th>\n",
       "      <td>construction.tools.light</td>\n",
       "      <td>huawei</td>\n",
       "      <td>0</td>\n",
       "    </tr>\n",
       "    <tr>\n",
       "      <th>10443702</th>\n",
       "      <td>accessories.bag</td>\n",
       "      <td>pampers</td>\n",
       "      <td>0</td>\n",
       "    </tr>\n",
       "    <tr>\n",
       "      <th>10443703</th>\n",
       "      <td>electronics.audio.headphone</td>\n",
       "      <td>hp</td>\n",
       "      <td>0</td>\n",
       "    </tr>\n",
       "    <tr>\n",
       "      <th>10443704</th>\n",
       "      <td>construction.tools.light</td>\n",
       "      <td>apple</td>\n",
       "      <td>0</td>\n",
       "    </tr>\n",
       "  </tbody>\n",
       "</table>\n",
       "<p>55471380 rows × 3 columns</p>\n",
       "</div>"
      ],
      "text/plain": [
       "                        category_code    brand  purchase\n",
       "0                electronics.video.tv    artel         0\n",
       "1              electronics.smartphone  samsung         0\n",
       "2             auto.accessories.player      jvc         0\n",
       "3              electronics.smartphone    apple         0\n",
       "4              electronics.smartphone   xiaomi         0\n",
       "...                               ...      ...       ...\n",
       "10443700     appliances.kitchen.grill  philips         0\n",
       "10443701     construction.tools.light   huawei         0\n",
       "10443702              accessories.bag  pampers         0\n",
       "10443703  electronics.audio.headphone       hp         0\n",
       "10443704     construction.tools.light    apple         0\n",
       "\n",
       "[55471380 rows x 3 columns]"
      ]
     },
     "execution_count": 7,
     "metadata": {},
     "output_type": "execute_result"
    }
   ],
   "source": [
    "data.head(-1)"
   ]
  },
  {
   "cell_type": "code",
   "execution_count": null,
   "id": "6866478e-b02d-408f-b622-3b7b1459864b",
   "metadata": {
    "tags": []
   },
   "outputs": [],
   "source": [
    "category_splits = data.category_code.str.split('.', expand=True)"
   ]
  },
  {
   "cell_type": "code",
   "execution_count": 13,
   "id": "9aa852a4-e727-4909-be76-93752cab6049",
   "metadata": {
    "tags": []
   },
   "outputs": [
    {
     "data": {
      "text/html": [
       "<div>\n",
       "<style scoped>\n",
       "    .dataframe tbody tr th:only-of-type {\n",
       "        vertical-align: middle;\n",
       "    }\n",
       "\n",
       "    .dataframe tbody tr th {\n",
       "        vertical-align: top;\n",
       "    }\n",
       "\n",
       "    .dataframe thead th {\n",
       "        text-align: right;\n",
       "    }\n",
       "</style>\n",
       "<table border=\"1\" class=\"dataframe\">\n",
       "  <thead>\n",
       "    <tr style=\"text-align: right;\">\n",
       "      <th></th>\n",
       "      <th>0</th>\n",
       "      <th>1</th>\n",
       "      <th>2</th>\n",
       "      <th>3</th>\n",
       "    </tr>\n",
       "  </thead>\n",
       "  <tbody>\n",
       "    <tr>\n",
       "      <th>0</th>\n",
       "      <td>electronics</td>\n",
       "      <td>video</td>\n",
       "      <td>tv</td>\n",
       "      <td>None</td>\n",
       "    </tr>\n",
       "    <tr>\n",
       "      <th>1</th>\n",
       "      <td>electronics</td>\n",
       "      <td>smartphone</td>\n",
       "      <td>None</td>\n",
       "      <td>None</td>\n",
       "    </tr>\n",
       "    <tr>\n",
       "      <th>2</th>\n",
       "      <td>auto</td>\n",
       "      <td>accessories</td>\n",
       "      <td>player</td>\n",
       "      <td>None</td>\n",
       "    </tr>\n",
       "    <tr>\n",
       "      <th>3</th>\n",
       "      <td>electronics</td>\n",
       "      <td>smartphone</td>\n",
       "      <td>None</td>\n",
       "      <td>None</td>\n",
       "    </tr>\n",
       "    <tr>\n",
       "      <th>4</th>\n",
       "      <td>electronics</td>\n",
       "      <td>smartphone</td>\n",
       "      <td>None</td>\n",
       "      <td>None</td>\n",
       "    </tr>\n",
       "    <tr>\n",
       "      <th>...</th>\n",
       "      <td>...</td>\n",
       "      <td>...</td>\n",
       "      <td>...</td>\n",
       "      <td>...</td>\n",
       "    </tr>\n",
       "    <tr>\n",
       "      <th>10443700</th>\n",
       "      <td>appliances</td>\n",
       "      <td>kitchen</td>\n",
       "      <td>grill</td>\n",
       "      <td>None</td>\n",
       "    </tr>\n",
       "    <tr>\n",
       "      <th>10443701</th>\n",
       "      <td>construction</td>\n",
       "      <td>tools</td>\n",
       "      <td>light</td>\n",
       "      <td>None</td>\n",
       "    </tr>\n",
       "    <tr>\n",
       "      <th>10443702</th>\n",
       "      <td>accessories</td>\n",
       "      <td>bag</td>\n",
       "      <td>None</td>\n",
       "      <td>None</td>\n",
       "    </tr>\n",
       "    <tr>\n",
       "      <th>10443703</th>\n",
       "      <td>electronics</td>\n",
       "      <td>audio</td>\n",
       "      <td>headphone</td>\n",
       "      <td>None</td>\n",
       "    </tr>\n",
       "    <tr>\n",
       "      <th>10443704</th>\n",
       "      <td>construction</td>\n",
       "      <td>tools</td>\n",
       "      <td>light</td>\n",
       "      <td>None</td>\n",
       "    </tr>\n",
       "  </tbody>\n",
       "</table>\n",
       "<p>58894770 rows × 4 columns</p>\n",
       "</div>"
      ],
      "text/plain": [
       "                     0            1          2     3\n",
       "0          electronics        video         tv  None\n",
       "1          electronics   smartphone       None  None\n",
       "2                 auto  accessories     player  None\n",
       "3          electronics   smartphone       None  None\n",
       "4          electronics   smartphone       None  None\n",
       "...                ...          ...        ...   ...\n",
       "10443700    appliances      kitchen      grill  None\n",
       "10443701  construction        tools      light  None\n",
       "10443702   accessories          bag       None  None\n",
       "10443703   electronics        audio  headphone  None\n",
       "10443704  construction        tools      light  None\n",
       "\n",
       "[58894770 rows x 4 columns]"
      ]
     },
     "execution_count": 13,
     "metadata": {},
     "output_type": "execute_result"
    }
   ],
   "source": [
    "# To see the principal categories\n",
    "category_splits.head(-1)"
   ]
  },
  {
   "cell_type": "code",
   "execution_count": 17,
   "id": "82638ee9-5ea5-44ef-bfa4-f84f2d444767",
   "metadata": {
    "tags": []
   },
   "outputs": [],
   "source": [
    "purchase = data['brand','purchase']"
   ]
  },
  {
   "cell_type": "code",
   "execution_count": 55,
   "id": "d41a6319-6d66-4efe-8325-b5b74ade2992",
   "metadata": {
    "tags": []
   },
   "outputs": [],
   "source": [
    "df_unido = pd.concat([category_splits, purchase], axis=1)"
   ]
  },
  {
   "cell_type": "code",
   "execution_count": 57,
   "id": "be8affaa-a028-40cb-9e9f-3586e38ef9d2",
   "metadata": {
    "tags": []
   },
   "outputs": [
    {
     "data": {
      "text/html": [
       "<div>\n",
       "<style scoped>\n",
       "    .dataframe tbody tr th:only-of-type {\n",
       "        vertical-align: middle;\n",
       "    }\n",
       "\n",
       "    .dataframe tbody tr th {\n",
       "        vertical-align: top;\n",
       "    }\n",
       "\n",
       "    .dataframe thead th {\n",
       "        text-align: right;\n",
       "    }\n",
       "</style>\n",
       "<table border=\"1\" class=\"dataframe\">\n",
       "  <thead>\n",
       "    <tr style=\"text-align: right;\">\n",
       "      <th></th>\n",
       "      <th>0</th>\n",
       "      <th>1</th>\n",
       "      <th>2</th>\n",
       "      <th>3</th>\n",
       "      <th>purchase</th>\n",
       "    </tr>\n",
       "  </thead>\n",
       "  <tbody>\n",
       "    <tr>\n",
       "      <th>0</th>\n",
       "      <td>electronics</td>\n",
       "      <td>video</td>\n",
       "      <td>tv</td>\n",
       "      <td>None</td>\n",
       "      <td>0</td>\n",
       "    </tr>\n",
       "    <tr>\n",
       "      <th>1</th>\n",
       "      <td>electronics</td>\n",
       "      <td>smartphone</td>\n",
       "      <td>None</td>\n",
       "      <td>None</td>\n",
       "      <td>0</td>\n",
       "    </tr>\n",
       "    <tr>\n",
       "      <th>2</th>\n",
       "      <td>auto</td>\n",
       "      <td>accessories</td>\n",
       "      <td>player</td>\n",
       "      <td>None</td>\n",
       "      <td>0</td>\n",
       "    </tr>\n",
       "    <tr>\n",
       "      <th>3</th>\n",
       "      <td>electronics</td>\n",
       "      <td>smartphone</td>\n",
       "      <td>None</td>\n",
       "      <td>None</td>\n",
       "      <td>0</td>\n",
       "    </tr>\n",
       "    <tr>\n",
       "      <th>4</th>\n",
       "      <td>electronics</td>\n",
       "      <td>smartphone</td>\n",
       "      <td>None</td>\n",
       "      <td>None</td>\n",
       "      <td>0</td>\n",
       "    </tr>\n",
       "    <tr>\n",
       "      <th>...</th>\n",
       "      <td>...</td>\n",
       "      <td>...</td>\n",
       "      <td>...</td>\n",
       "      <td>...</td>\n",
       "      <td>...</td>\n",
       "    </tr>\n",
       "    <tr>\n",
       "      <th>10443700</th>\n",
       "      <td>appliances</td>\n",
       "      <td>kitchen</td>\n",
       "      <td>grill</td>\n",
       "      <td>None</td>\n",
       "      <td>0</td>\n",
       "    </tr>\n",
       "    <tr>\n",
       "      <th>10443701</th>\n",
       "      <td>construction</td>\n",
       "      <td>tools</td>\n",
       "      <td>light</td>\n",
       "      <td>None</td>\n",
       "      <td>0</td>\n",
       "    </tr>\n",
       "    <tr>\n",
       "      <th>10443702</th>\n",
       "      <td>accessories</td>\n",
       "      <td>bag</td>\n",
       "      <td>None</td>\n",
       "      <td>None</td>\n",
       "      <td>0</td>\n",
       "    </tr>\n",
       "    <tr>\n",
       "      <th>10443703</th>\n",
       "      <td>electronics</td>\n",
       "      <td>audio</td>\n",
       "      <td>headphone</td>\n",
       "      <td>None</td>\n",
       "      <td>0</td>\n",
       "    </tr>\n",
       "    <tr>\n",
       "      <th>10443704</th>\n",
       "      <td>construction</td>\n",
       "      <td>tools</td>\n",
       "      <td>light</td>\n",
       "      <td>None</td>\n",
       "      <td>0</td>\n",
       "    </tr>\n",
       "  </tbody>\n",
       "</table>\n",
       "<p>58894770 rows × 5 columns</p>\n",
       "</div>"
      ],
      "text/plain": [
       "                     0            1          2     3  purchase\n",
       "0          electronics        video         tv  None         0\n",
       "1          electronics   smartphone       None  None         0\n",
       "2                 auto  accessories     player  None         0\n",
       "3          electronics   smartphone       None  None         0\n",
       "4          electronics   smartphone       None  None         0\n",
       "...                ...          ...        ...   ...       ...\n",
       "10443700    appliances      kitchen      grill  None         0\n",
       "10443701  construction        tools      light  None         0\n",
       "10443702   accessories          bag       None  None         0\n",
       "10443703   electronics        audio  headphone  None         0\n",
       "10443704  construction        tools      light  None         0\n",
       "\n",
       "[58894770 rows x 5 columns]"
      ]
     },
     "execution_count": 57,
     "metadata": {},
     "output_type": "execute_result"
    }
   ],
   "source": [
    "df_unido.head(-1)"
   ]
  },
  {
   "cell_type": "code",
   "execution_count": 59,
   "id": "05b38a93-32fe-4475-be31-8a47172e47cf",
   "metadata": {
    "tags": []
   },
   "outputs": [],
   "source": [
    "category = df_unido.to_pickle('categories_purchase.pkl')"
   ]
  },
  {
   "cell_type": "code",
   "execution_count": 19,
   "id": "653eeed3-12ed-4ef7-806c-a4546b2723c8",
   "metadata": {
    "tags": []
   },
   "outputs": [],
   "source": [
    "category_levels_unique_data = data.drop_duplicates()"
   ]
  },
  {
   "cell_type": "code",
   "execution_count": 21,
   "id": "c3f4de1c-a5e7-4278-96cb-efc8987357b2",
   "metadata": {
    "tags": []
   },
   "outputs": [
    {
     "data": {
      "text/plain": [
       "array(['electronics.video.tv', 'electronics.smartphone',\n",
       "       'auto.accessories.player', 'appliances.kitchen.meat_grinder',\n",
       "       'electronics.clocks', 'electronics.audio.subwoofer',\n",
       "       'appliances.kitchen.washer', 'electronics.audio.headphone',\n",
       "       'appliances.kitchen.refrigerators',\n",
       "       'computers.peripherals.printer', 'apparel.shoes',\n",
       "       'furniture.bedroom.bed', 'appliances.kitchen.dishwasher',\n",
       "       'furniture.living_room.cabinet', 'computers.notebook',\n",
       "       'computers.desktop', 'computers.components.power_supply',\n",
       "       'appliances.ironing_board', 'appliances.environment.vacuum',\n",
       "       'electronics.telephone', 'appliances.environment.air_conditioner',\n",
       "       'electronics.camera.video', 'electronics.tablet',\n",
       "       'computers.components.motherboard', 'appliances.kitchen.blender',\n",
       "       'kids.carriage', 'kids.toys', 'appliances.kitchen.kettle',\n",
       "       'computers.peripherals.monitor', 'appliances.kitchen.oven',\n",
       "       'appliances.kitchen.hood', 'appliances.environment.water_heater',\n",
       "       'apparel.shoes.keds', 'appliances.kitchen.mixer',\n",
       "       'auto.accessories.alarm', 'appliances.personal.hair_cutter',\n",
       "       'appliances.environment.air_heater', 'auto.accessories.parktronic',\n",
       "       'construction.tools.drill', 'sport.bicycle',\n",
       "       'computers.components.cpu', 'construction.tools.generator',\n",
       "       'appliances.kitchen.microwave', 'construction.tools.saw',\n",
       "       'auto.accessories.videoregister',\n",
       "       'computers.components.videocards', 'apparel.underwear',\n",
       "       'computers.components.memory', 'appliances.kitchen.hob',\n",
       "       'electronics.audio.music_tools.piano', 'sport.trainer',\n",
       "       'accessories.bag', 'electronics.audio.acoustic',\n",
       "       'computers.components.cooler', 'appliances.sewing_machine',\n",
       "       'appliances.kitchen.coffee_machine', 'furniture.kitchen.chair',\n",
       "       'apparel.shoes.sandals', 'construction.components.faucet',\n",
       "       'appliances.kitchen.grill', 'computers.components.hdd',\n",
       "       'kids.fmcg.diapers', 'accessories.wallet',\n",
       "       'construction.tools.welding', 'computers.peripherals.mouse',\n",
       "       'appliances.iron', 'furniture.living_room.chair',\n",
       "       'furniture.living_room.sofa', 'appliances.personal.scales',\n",
       "       'kids.skates', 'appliances.kitchen.juicer',\n",
       "       'country_yard.cultivator', 'computers.peripherals.keyboard',\n",
       "       'apparel.shirt', 'furniture.kitchen.table',\n",
       "       'medicine.tools.tonometer', 'apparel.shoes.moccasins',\n",
       "       'electronics.video.projector', 'electronics.audio.microphone',\n",
       "       'construction.tools.pump', 'apparel.scarf', 'sport.tennis',\n",
       "       'apparel.dress', 'apparel.costume', 'construction.tools.light',\n",
       "       'computers.peripherals.camera', 'sport.snowboard',\n",
       "       'computers.ebooks', 'kids.swing', 'construction.tools.painting',\n",
       "       'kids.dolls', 'electronics.camera.photo', 'apparel.shoes.step_ins',\n",
       "       'appliances.kitchen.steam_cooker', 'furniture.bathroom.bath',\n",
       "       'apparel.tshirt', 'auto.accessories.winch', 'apparel.jeans',\n",
       "       'appliances.personal.massager', 'furniture.universal.light',\n",
       "       'construction.tools.soldering', 'furniture.bedroom.pillow',\n",
       "       'auto.accessories.compressor', 'auto.accessories.radar',\n",
       "       'appliances.environment.fan', 'furniture.bedroom.blanket',\n",
       "       'appliances.kitchen.toster', 'apparel.trousers', 'apparel.sock',\n",
       "       'appliances.kitchen.coffee_grinder', 'furniture.bathroom.toilet',\n",
       "       'accessories.umbrella', 'stationery.cartrige',\n",
       "       'apparel.shoes.slipons', 'country_yard.lawn_mower',\n",
       "       'apparel.skirt', 'apparel.shoes.espadrilles',\n",
       "       'apparel.shoes.ballet_shoes', 'country_yard.furniture.hammok',\n",
       "       'apparel.jumper', 'auto.accessories.anti_freeze', 'apparel.jacket',\n",
       "       'sport.ski', 'apparel.belt', 'apparel.shorts',\n",
       "       'country_yard.furniture.bench', 'apparel.glove',\n",
       "       'appliances.kitchen.fryer', 'construction.tools.screw', nan,\n",
       "       'apparel.pajamas', 'appliances.environment.climate',\n",
       "       'sport.diving', 'furniture.living_room.shelving',\n",
       "       'computers.components.sound_card', 'auto.accessories.light',\n",
       "       'construction.tools.axe', 'electronics.audio.dictaphone',\n",
       "       'country_yard.watering', 'computers.components.cdrw',\n",
       "       'stationery.paper'], dtype=object)"
      ]
     },
     "execution_count": 21,
     "metadata": {},
     "output_type": "execute_result"
    }
   ],
   "source": [
    "category_levels_unique_data.unique()"
   ]
  },
  {
   "cell_type": "code",
   "execution_count": 23,
   "id": "56bab0e0-33c3-40fc-9287-0d82e5e9a0a6",
   "metadata": {
    "tags": []
   },
   "outputs": [
    {
     "data": {
      "text/plain": [
       "140"
      ]
     },
     "execution_count": 23,
     "metadata": {},
     "output_type": "execute_result"
    }
   ],
   "source": [
    "df.category_code.nunique()"
   ]
  },
  {
   "cell_type": "code",
   "execution_count": 27,
   "id": "129ec3c9-36d2-4afa-8144-da2369f195e1",
   "metadata": {
    "tags": []
   },
   "outputs": [
    {
     "data": {
      "text/plain": [
       "1228"
      ]
     },
     "execution_count": 27,
     "metadata": {},
     "output_type": "execute_result"
    }
   ],
   "source": [
    "df.category_id.nunique()"
   ]
  },
  {
   "cell_type": "code",
   "execution_count": 31,
   "id": "24ec59c2-0fa3-42eb-9eae-feaff1c28bf6",
   "metadata": {
    "tags": []
   },
   "outputs": [],
   "source": [
    "categories = category_splits[0].drop_duplicates()"
   ]
  },
  {
   "cell_type": "code",
   "execution_count": 33,
   "id": "df0fac3b-2e66-4d5a-9859-939d38577313",
   "metadata": {
    "tags": []
   },
   "outputs": [
    {
     "data": {
      "text/plain": [
       "13"
      ]
     },
     "execution_count": 33,
     "metadata": {},
     "output_type": "execute_result"
    }
   ],
   "source": [
    "categories.count()"
   ]
  },
  {
   "cell_type": "code",
   "execution_count": 37,
   "id": "0651b69d-4fa3-4332-be92-ae1ef79f5713",
   "metadata": {
    "tags": []
   },
   "outputs": [
    {
     "data": {
      "text/plain": [
       "array(['electronics', 'auto', 'appliances', 'computers', 'apparel',\n",
       "       'furniture', 'kids', 'construction', 'sport', 'accessories',\n",
       "       'country_yard', 'medicine', 'stationery', nan], dtype=object)"
      ]
     },
     "execution_count": 37,
     "metadata": {},
     "output_type": "execute_result"
    }
   ],
   "source": [
    "categories.unique()"
   ]
  },
  {
   "cell_type": "code",
   "execution_count": null,
   "id": "d037b4fc-36c4-4194-87c7-a3a322ca57f0",
   "metadata": {},
   "outputs": [],
   "source": []
  }
 ],
 "metadata": {
  "kernelspec": {
   "display_name": "Python 3 (ipykernel)",
   "language": "python",
   "name": "python3"
  },
  "language_info": {
   "codemirror_mode": {
    "name": "ipython",
    "version": 3
   },
   "file_extension": ".py",
   "mimetype": "text/x-python",
   "name": "python",
   "nbconvert_exporter": "python",
   "pygments_lexer": "ipython3",
   "version": "3.11.5"
  }
 },
 "nbformat": 4,
 "nbformat_minor": 5
}
